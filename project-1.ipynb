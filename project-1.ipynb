{
  "nbformat": 4,
  "nbformat_minor": 0,
  "metadata": {
    "colab": {
      "name": "Untitled3.ipynb",
      "provenance": [],
      "authorship_tag": "ABX9TyNuijiN0ePkvi8SHpKMoHUm",
      "include_colab_link": true
    },
    "kernelspec": {
      "name": "python3",
      "display_name": "Python 3"
    },
    "language_info": {
      "name": "python"
    }
  },
  "cells": [
    {
      "cell_type": "markdown",
      "metadata": {
        "id": "view-in-github",
        "colab_type": "text"
      },
      "source": [
        "<a href=\"https://colab.research.google.com/github/easha-382/Basic-ML/blob/main/project-1.ipynb\" target=\"_parent\"><img src=\"https://colab.research.google.com/assets/colab-badge.svg\" alt=\"Open In Colab\"/></a>"
      ]
    },
    {
      "cell_type": "markdown",
      "metadata": {
        "id": "EUtG5jCMXDCt"
      },
      "source": [
        " 1.programe to check string is a palindrome or not"
      ]
    },
    {
      "cell_type": "code",
      "metadata": {
        "colab": {
          "base_uri": "https://localhost:8080/"
        },
        "id": "-9Rn_VGXXEVc",
        "outputId": "c98d9151-00dc-4cde-a9d1-8bc5bc856909"
      },
      "source": [
        " \n",
        "my_str = input()\n",
        " \n",
        "# make it suitable for caseless comparison\n",
        "my_str = my_str.casefold()\n",
        " \n",
        "# reverse the string\n",
        "rev_str = reversed(my_str)\n",
        " \n",
        "# check if the string is equal to its reverse\n",
        "if list(my_str) == list(rev_str):\n",
        "   print(\"The string is a palindrome.\")\n",
        "else:\n",
        "   print(\"The string is not a palindrome.\")"
      ],
      "execution_count": 2,
      "outputs": [
        {
          "output_type": "stream",
          "text": [
            "3424\n",
            "The string is not a palindrome.\n"
          ],
          "name": "stdout"
        }
      ]
    },
    {
      "cell_type": "markdown",
      "metadata": {
        "id": "Khd5oZMnXcUW"
      },
      "source": [
        " 2.progrome to check given no is zero , positive,negitive  number"
      ]
    },
    {
      "cell_type": "code",
      "metadata": {
        "colab": {
          "base_uri": "https://localhost:8080/"
        },
        "id": "iS9-wn0dXyBg",
        "outputId": "8dbbc58e-f856-4570-c9ef-02e9f0eb9e1f"
      },
      "source": [
        " \n",
        "#prog to check given no is positive negitive or zero \n",
        "num = float(input(\"Enter a number: \"))\n",
        "if num >= 0:\n",
        "   if num == 0:\n",
        "       print(\"Zero\")\n",
        "   else:\n",
        "       print(\"Positive number\")\n",
        "else:\n",
        "   print(\"Negative number\")"
      ],
      "execution_count": 4,
      "outputs": [
        {
          "output_type": "stream",
          "text": [
            "Enter a number: -6\n",
            "Negative number\n"
          ],
          "name": "stdout"
        }
      ]
    },
    {
      "cell_type": "markdown",
      "metadata": {
        "id": "Fys63k1WX66p"
      },
      "source": [
        " 3.python prog to print area of triangle"
      ]
    },
    {
      "cell_type": "code",
      "metadata": {
        "colab": {
          "base_uri": "https://localhost:8080/"
        },
        "id": "3lsnW_BVYPwr",
        "outputId": "b6226605-0538-4398-a180-766dd5bfd8ab"
      },
      "source": [
        " \n",
        "# Python Program to find the area of triangle\n",
        " \n",
        " a = float(input('Enter first side: '))\n",
        " b = float(input('Enter second side: '))\n",
        " c = float(input('Enter third side: '))\n",
        " \n",
        "# calculate the semi-perimeter\n",
        "s = (a + b + c) / 2\n",
        " \n",
        "# calculate the area\n",
        "area = (s*(s-a)*(s-b)*(s-c)) ** 0.5\n",
        "print('The area of the triangle is %0.2f' %area)"
      ],
      "execution_count": 5,
      "outputs": [
        {
          "output_type": "stream",
          "text": [
            "Enter first side: 3\n",
            "Enter second side: 4\n",
            "Enter third side: 5\n",
            "The area of the triangle is 6.00\n"
          ],
          "name": "stdout"
        }
      ]
    },
    {
      "cell_type": "markdown",
      "metadata": {
        "id": "b_rltePyYYbv"
      },
      "source": [
        ""
      ]
    }
  ]
}